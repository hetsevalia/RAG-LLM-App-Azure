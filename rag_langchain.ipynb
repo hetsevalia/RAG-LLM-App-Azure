{
 "cells": [
  {
   "cell_type": "code",
   "execution_count": 11,
   "metadata": {},
   "outputs": [],
   "source": [
    "import os\n",
    "import dotenv\n",
    "from pathlib import Path\n",
    "\n",
    "from langchain_core.messages import AIMessage, HumanMessage\n",
    "from langchain_community.document_loaders.text import TextLoader\n",
    "from langchain_community.document_loaders import (\n",
    "    WebBaseLoader,\n",
    "    PyPDFLoader,\n",
    "    Docx2txtLoader,\n",
    ")\n",
    "from langchain_community.vectorstores import Chroma\n",
    "from langchain.text_splitter import RecursiveCharacterTextSplitter\n",
    "from langchain.embeddings import OpenAIEmbeddings\n",
    "from langchain.prompts import ChatPromptTemplate, MessagesPlaceholder\n",
    "from langchain.chains import create_history_aware_retriever, create_retrieval_chain\n",
    "from langchain.chains.combine_documents import create_stuff_documents_chain\n",
    "from langchain_community.document_loaders import PyPDFLoader, Docx2txtLoader, TextLoader, WebBaseLoader\n",
    "from langchain_google_genai import ChatGoogleGenerativeAI\n",
    "from langchain.embeddings import HuggingFaceEmbeddings"
   ]
  },
  {
   "cell_type": "code",
   "execution_count": 6,
   "metadata": {},
   "outputs": [],
   "source": [
    "doc_paths = [\n",
    "    r\"docs\\test_rag.docx\",\n",
    "    r\"docs\\test_rag.pdf\",\n",
    "]\n",
    "\n",
    "docs = []\n",
    "for doc_file in doc_paths:\n",
    "    file_path = Path(doc_file)\n",
    "\n",
    "    try:\n",
    "        if file_path.suffix == \".pdf\":\n",
    "            loader = PyPDFLoader(file_path)\n",
    "        elif file_path.suffix == \".docx\":\n",
    "            loader = Docx2txtLoader(file_path)\n",
    "        elif file_path.suffix in [\".txt\", \".md\"]:\n",
    "            loader = TextLoader(file_path)\n",
    "        else:\n",
    "            print(f\"Unsupported document type: {file_path}\")\n",
    "            continue\n",
    "\n",
    "        docs.extend(loader.load())\n",
    "\n",
    "    except Exception as e:\n",
    "        print(f\"Error loading document {file_path}: {e}\")\n",
    "\n",
    "# Load URL document\n",
    "url = \"https://docs.streamlit.io/develop/quick-reference/release-notes\"\n",
    "try:\n",
    "    loader = WebBaseLoader(url)\n",
    "    docs.extend(loader.load())\n",
    "\n",
    "except Exception as e:\n",
    "    print(f\"Error loading document from {url}: {e}\")\n"
   ]
  },
  {
   "cell_type": "code",
   "execution_count": 7,
   "metadata": {},
   "outputs": [
    {
     "data": {
      "text/plain": [
       "[Document(metadata={'source': 'docs\\\\test_rag.docx'}, page_content='My favorite food is margarita pizza.\\n\\nThere are 47588 bottles in the truck.'),\n",
       " Document(metadata={'producer': 'Microsoft® Word for Microsoft 365', 'creator': 'Microsoft® Word for Microsoft 365', 'creationdate': '2024-09-15T19:40:36+02:00', 'msip_label_1cf2ba15-c468-47c8-b178-cba8acf110ec_siteid': 'eb25818e-5bd5-49bf-99de-53e3e7b42630', 'msip_label_1cf2ba15-c468-47c8-b178-cba8acf110ec_method': 'Standard', 'msip_label_1cf2ba15-c468-47c8-b178-cba8acf110ec_enabled': 'True', 'author': 'Domingo Domènech Enric (ERNI)', 'moddate': '2024-09-15T19:40:36+02:00', 'source': 'docs\\\\test_rag.pdf', 'total_pages': 1, 'page': 0, 'page_label': '1'}, page_content='My favorite food is margarita pizza. \\nThere are 47588 bottles in the truck.'),\n",
       " Document(metadata={'source': 'https://docs.streamlit.io/develop/quick-reference/release-notes', 'title': 'Release notes - Streamlit Docs', 'description': 'A changelog of highlights and fixes for each version of Streamlit.', 'language': 'No language found.'}, page_content=\"Release notes - Streamlit DocsDocumentationsearchSearchrocket_launchGet startedInstallationaddFundamentalsaddFirst stepsaddcodeDevelopConceptsaddAPI referenceaddTutorialsaddQuick referenceremoveCheat sheetRelease notesremove2025202420232022202120202019Pre-release featuresRoadmapopen_in_newweb_assetDeployConceptsaddStreamlit Community CloudaddSnowflakeOther platformsaddschoolKnowledge baseFAQInstalling dependenciesDeployment issuesHome/Develop/Quick reference/Release notesRelease notes\\nThis page lists highlights, bug fixes, and known issues for the latest release of Streamlit. If you're looking for information about nightly releases or experimental features, see Pre-release features.\\nUpgrade Streamlit\\nstarTipTo upgrade to the latest version of Streamlit, run:pip install --upgrade streamlit\\n\\nVersion 1.49.0 (latest)\\nRelease date: August 26, 2025\\nHighlights\\n\\n\\uf8ffüìÑ¬†Introducing st.pdf to beautifully render PDF documents in your app!\\n‚õèÔ∏è¬†Dataframes support cell selections!\\n‚ú®¬†You can add sparklines to st.metric!\\n‚úèÔ∏è¬†ListColumn is now editable!\\n\\uf8ffüìÇ¬†Users can upload a directory of files with st.file_uploader or st.chat_input.\\n\\nNotable Changes\\n\\n\\uf8ffüè∑Ô∏è¬†You can configure the labels of options in SelectboxColumn with a new format_func parameter (#12232, #6795).\\n\\uf8ffüçû¬†You can configure the duration of st.toast messages (#11872, #7047).\\n\\uf8ffüîë¬†st.form_submit_button has a key parameter (#12190, #12121).\\n\\uf8ffüåª¬†Markdown and heading dividers can be yellow (#12201).\\n\\uf8ffüí¨¬†st.dialog widths have a larger option (#12040, #8904).\\n\\uf8ffüíª¬†st.dataframe and st.data_editor have width and height to use with flex layouts (#11930).\\n\\uf8ffüñºÔ∏è¬†st.image, st.pyplot, and st.graphviz_chart have a width parameter to use them with flex layouts (#11952, #12212).\\n\\uf8ffüìà¬†Users can access the underlying data of a Vega chart through the toolbar. This includes all data passed to the chart, even if it's not displayed (#10311).\\n‚ò†Ô∏è¬†st.bokeh_chart is deprecated. Use the streamlit-bokeh custom component instead.\\n\\uf8ffüßπ¬†We removed deprecated commands and parameters: st.experimental_dialog, st.experimental_fragment, and caching's experimental_allow_widgets (#12167).\\n\\nOther Changes\\n\\n\\uf8ffüèÉ‚Äç‚ôÇÔ∏è¬†For better performance, st.slider will not rerun the app until the user releases the slider thumb (#11879, #4541).\\n\\uf8ffüíÖ¬†For improved custom theming, single mark charts use the first categorical chart color (#12162).\\n\\uf8ffüåê¬†For¬†st.logo, the¬†crossorigin¬†property can be configured by hosts (#12226).\\n\\uf8ffüé®¬†The colored decoration line at the top of Streamlit apps was removed (#12155).\\n\\uf8ffüëª¬†The copy-to-clipboard function of multiple elements gives a checkmark feedback to users when they copy something (#12141, #12172).\\n\\uf8ffü´•¬†Users can quickly hide or unhide all columns in a dataframe (#12164, #12082). Thanks, plumol!\\n‚ÑπÔ∏è Material icons were updated (#12264).\\n\\uf8ffüëΩ¬†Bug fix: CheckboxColumn uses the radii from the theming configuration options (#12263).\\n\\uf8ffü¶Ä¬†Bug fix: A column's menu is not accessible when the column is hidden (#12233, #12230). Thanks, plumol!\\n\\uf8ffü¶ã¬†Bug fix: Streamlit correctly caches Pydantic models (#12137, #10348).\\n\\uf8ffü¶é¬†Bug fix: st.plotly_chart correctly handles null selections (#12222, #12191).\\n\\uf8ffüêå¬†Bug fix: When using accept_new_options=True with st.selectbox, mobile users can access their keyboards (#12219, #12205).\\n\\uf8ffüï∏Ô∏è¬†Bug fix: Streamlit does not raise an error when the user's email is empty and server.showEmailPrompt is false (#12202, #12166). Thanks, wyattscarpenter!\\n\\uf8ffü¶ó¬†Bug fix: The drop area of st.file_uploader correctly truncates a long list of file types (#12192, #12189).\\n\\uf8ffü¶Ç¬†Bug fix: The corner radius of st.page_link matches the navigation widget instead of the border radius configured for buttons (#12181).\\n\\uf8ffü¶ü¬†Bug fix: Cached replay correctly handles element height and width for flex layouts (#12183).\\n\\uf8ffü¶†¬†Bug fix: When a client disconnects from a Streamlit server and the user dismisses the warning, the client will re-raise the warning while the app remains disconnected (#12178, #12113).\\n\\uf8ffü™∞¬†Bug fix: Identity provider logout was reverted to prevent redirect failures in st.logout() (#12179).\\n\\uf8ffü™≥¬†Bug fix: Currency symbols in column configuration are narrowly formatted (#11895).\\n\\uf8ffüï∑Ô∏è¬†Bug fix: Users can't remove files from st.file_uploader while the widget is disabled (#12180, #12146).\\n\\uf8ffüêû¬†Bug fix: pip install works correctly in Windows (#8952). Thanks, Dev-iL!\\n\\uf8ffüêù¬†Bug fix: The drop-down menu for st.time_input uses theme colors consistently with other elements (#12157).\\n\\uf8ffüêú¬†Bug fix: st.toast uses custom theme colors (#12160, #11951).\\n\\uf8ffü™≤¬†Bug fix: The width handling of custom components was updated to work with horizontal containers (#12148).\\n\\uf8ffüêõ¬†Bug fix: st.chat_input correctly resizes itself after the user submits a long message (#12132, #12079).\\n\\nOlder versions of Streamlit\\n\\n2025 release notes\\n2024 release notes\\n2023 release notes\\n2022 release notes\\n2021 release notes\\n2020 release notes\\n2019 release notes\\nPrevious: Cheat sheetNext: 2025forumStill have questions?Our forums are full of helpful information and Streamlit experts.HomeContact UsCommunity¬© 2025 Snowflake Inc.Cookie policyforum Ask AI\")]"
      ]
     },
     "execution_count": 7,
     "metadata": {},
     "output_type": "execute_result"
    }
   ],
   "source": [
    "docs"
   ]
  },
  {
   "cell_type": "code",
   "execution_count": 8,
   "metadata": {},
   "outputs": [],
   "source": [
    "# Split docs\n",
    "\n",
    "text_splitter = RecursiveCharacterTextSplitter(\n",
    "    chunk_size=5000,\n",
    "    chunk_overlap=1000,\n",
    ")\n",
    "document_chunks = text_splitter.split_documents(docs)"
   ]
  },
  {
   "cell_type": "code",
   "execution_count": 12,
   "metadata": {},
   "outputs": [
    {
     "name": "stderr",
     "output_type": "stream",
     "text": [
      "C:\\Users\\Admin\\AppData\\Local\\Temp\\ipykernel_3800\\1915114740.py:4: LangChainDeprecationWarning: The class `HuggingFaceEmbeddings` was deprecated in LangChain 0.2.2 and will be removed in 1.0. An updated version of the class exists in the :class:`~langchain-huggingface package and should be used instead. To use it run `pip install -U :class:`~langchain-huggingface` and import as `from :class:`~langchain_huggingface import HuggingFaceEmbeddings``.\n",
      "  embeddings = HuggingFaceEmbeddings(model_name=\"sentence-transformers/all-MiniLM-L6-v2\")\n",
      "c:\\Users\\Admin\\miniconda3\\envs\\pytorch_env\\Lib\\site-packages\\tqdm\\auto.py:21: TqdmWarning: IProgress not found. Please update jupyter and ipywidgets. See https://ipywidgets.readthedocs.io/en/stable/user_install.html\n",
      "  from .autonotebook import tqdm as notebook_tqdm\n",
      "c:\\Users\\Admin\\miniconda3\\envs\\pytorch_env\\Lib\\site-packages\\transformers\\models\\bert\\modeling_bert.py:440: UserWarning: 1Torch was not compiled with flash attention. (Triggered internally at C:\\cb\\pytorch_1000000000000\\work\\aten\\src\\ATen\\native\\transformers\\cuda\\sdp_utils.cpp:555.)\n",
      "  attn_output = torch.nn.functional.scaled_dot_product_attention(\n"
     ]
    }
   ],
   "source": [
    "# Tokenize and load the documents to the vector store\n",
    "\n",
    "# Instantiate Hugging Face Embeddings\n",
    "embeddings = HuggingFaceEmbeddings(model_name=\"sentence-transformers/all-MiniLM-L6-v2\")\n",
    "\n",
    "# Create vector store\n",
    "vector_db = Chroma.from_documents(\n",
    "    documents=document_chunks,\n",
    "    embedding=embeddings,\n",
    ")"
   ]
  },
  {
   "cell_type": "code",
   "execution_count": 13,
   "metadata": {},
   "outputs": [],
   "source": [
    "# Retrieve\n",
    "\n",
    "def _get_context_retriever_chain(vector_db, llm):\n",
    "    retriever = vector_db.as_retriever()\n",
    "    prompt = ChatPromptTemplate.from_messages([\n",
    "        MessagesPlaceholder(variable_name=\"messages\"),\n",
    "        (\"user\", \"{input}\"),\n",
    "        (\"user\", \"Generate a search query for document retrieval.\"),\n",
    "    ])\n",
    "    retriever_chain = create_history_aware_retriever(llm, retriever, prompt)\n",
    "    return retriever_chain"
   ]
  },
  {
   "cell_type": "code",
   "execution_count": 14,
   "metadata": {},
   "outputs": [],
   "source": [
    "def get_conversational_rag_chain(llm):\n",
    "    retriever_chain = _get_context_retriever_chain(vector_db, llm)\n",
    "\n",
    "    prompt = ChatPromptTemplate.from_messages([\n",
    "        (\"system\",\n",
    "        \"\"\"You are a helpful assistant. You will have to answer to user's queries.\n",
    "        You will have some context to help with your answers, but now always would be completely related or helpful.\n",
    "        You can also use your knowledge to assist answering the user's queries.\\n\n",
    "        {context}\"\"\"),\n",
    "        MessagesPlaceholder(variable_name=\"messages\"),\n",
    "        (\"user\", \"{input}\"),\n",
    "    ])\n",
    "    stuff_documents_chain = create_stuff_documents_chain(llm, prompt)\n",
    "\n",
    "    return create_retrieval_chain(retriever_chain, stuff_documents_chain)"
   ]
  },
  {
   "cell_type": "code",
   "execution_count": 16,
   "metadata": {},
   "outputs": [
    {
     "name": "stdout",
     "output_type": "stream",
     "text": [
      "The latest version of Streamlit is 1.49.0, released on August 26, 2025.\n"
     ]
    }
   ],
   "source": [
    "# Augmented Generation\n",
    "\n",
    "llm_stream = ChatGoogleGenerativeAI(\n",
    "    model=\"gemini-2.0-flash\",\n",
    "    api_key=os.getenv(\"GOOGLE_GEMINI_API\"),\n",
    "    temperature=0,\n",
    "    max_tokens=None,\n",
    "    timeout=None,\n",
    "    max_retries=2\n",
    ")\n",
    "\n",
    "messages = [\n",
    "    {\"role\": \"user\", \"content\": \"Hi\"},\n",
    "    {\"role\": \"assistant\", \"content\": \"Hi there! How can I assist you today?\"},\n",
    "    {\"role\": \"user\", \"content\": \"What is the latest version of Streamlit?\"},\n",
    "]\n",
    "messages = [HumanMessage(content=m[\"content\"]) if m[\"role\"] == \"user\" else AIMessage(content=m[\"content\"]) for m in messages]\n",
    "\n",
    "conversation_rag_chain = get_conversational_rag_chain(llm_stream)\n",
    "\n",
    "response_message = \"*(RAG Response)*\\n\"\n",
    "for chunk in conversation_rag_chain.pick(\"answer\").stream({\n",
    "    \"messages\": messages[:-1],\n",
    "    \"input\": messages[-1].content\n",
    "}):\n",
    "    response_message += chunk\n",
    "    print(chunk, end=\"\", flush=True)\n",
    "\n",
    "messages.append({\"role\": \"assistant\", \"content\": response_message})"
   ]
  },
  {
   "cell_type": "code",
   "execution_count": 17,
   "metadata": {},
   "outputs": [
    {
     "name": "stdout",
     "output_type": "stream",
     "text": [
      "Okay, here's a summary of key things to know about Google Gemini:\n",
      "\n",
      "**What it is:**\n",
      "\n",
      "*   **Google's most advanced AI model:** Gemini is a family of multimodal AI models developed by Google AI. It's designed to be more powerful and versatile than previous models like LaMDA.\n",
      "*   **Multimodal from the ground up:** Unlike some models that add multimodality as an afterthought, Gemini is natively multimodal. This means it's trained to understand and reason across different types of information, including text, code, audio, images, and video, simultaneously.\n",
      "*   **Three versions:**\n",
      "    *   **Gemini Ultra:** The largest and most capable model, intended for highly complex tasks.\n",
      "    *   **Gemini Pro:** A more balanced model, designed for a wide range of tasks and scalable deployment. Powers Google's Bard (now Gemini) chatbot.\n",
      "    *   **Gemini Nano:** A smaller, efficient model designed for on-device tasks on smartphones and other devices.\n",
      "\n",
      "**Key Capabilities and Features:**\n",
      "\n",
      "*   **Advanced Reasoning:** Gemini is designed for sophisticated reasoning, problem-solving, and creative collaboration.\n",
      "*   **Understanding Nuance:** It's intended to better understand the nuances of language, context, and intent.\n",
      "*   **Code Generation and Understanding:** Gemini is particularly strong in code-related tasks, including generating, explaining, and debugging code in various programming languages.\n",
      "*   **Image and Video Understanding:** It can analyze and understand the content of images and videos, answering questions about them, summarizing them, and extracting relevant information.\n",
      "*   **Integration with Google Products:** Gemini is being integrated into various Google products and services, such as Search, Ads, Chrome, and Android.\n",
      "*   **Bard/Gemini Chatbot:** Gemini Pro powers the Gemini chatbot (formerly Bard), which is Google's answer to ChatGPT.\n",
      "\n",
      "**Important Considerations:**\n",
      "\n",
      "*   **Still Evolving:** AI models are constantly being developed and improved. Gemini is no exception, and its capabilities and performance will likely continue to evolve.\n",
      "*   **Potential for Bias:** Like all AI models trained on large datasets, Gemini may exhibit biases present in the data. Google is working to mitigate these biases.\n",
      "*   **Responsible AI Development:** Google emphasizes responsible AI development and deployment, including safety testing and ethical considerations.\n",
      "\n",
      "In short, Google Gemini represents a significant step forward in AI capabilities, with its native multimodality and advanced reasoning abilities. It's poised to have a wide-ranging impact on various Google products and services, as well as the broader AI landscape.\n"
     ]
    }
   ],
   "source": [
    "prompt = \"Tell me something about Google Gemini\"\n",
    "\n",
    "for chunk in llm_stream.stream(prompt):\n",
    "    print(chunk.content, end=\"\", flush=True)"
   ]
  }
 ],
 "metadata": {
  "kernelspec": {
   "display_name": "pytorch_env",
   "language": "python",
   "name": "python3"
  },
  "language_info": {
   "codemirror_mode": {
    "name": "ipython",
    "version": 3
   },
   "file_extension": ".py",
   "mimetype": "text/x-python",
   "name": "python",
   "nbconvert_exporter": "python",
   "pygments_lexer": "ipython3",
   "version": "3.11.10"
  }
 },
 "nbformat": 4,
 "nbformat_minor": 2
}
